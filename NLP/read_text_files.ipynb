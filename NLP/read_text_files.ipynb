{
 "cells": [
  {
   "cell_type": "code",
   "execution_count": 2,
   "id": "bbb3bd09-32ec-460f-90ab-4d7fcded0fef",
   "metadata": {},
   "outputs": [],
   "source": [
    "person = 'Mahesh Kummari'\n"
   ]
  },
  {
   "cell_type": "code",
   "execution_count": 32,
   "id": "7f863c83-c4cd-4314-9300-beefaa39e248",
   "metadata": {},
   "outputs": [
    {
     "name": "stdout",
     "output_type": "stream",
     "text": [
      "my name is Mahesh Kummari\n"
     ]
    }
   ],
   "source": [
    "print(f\"my name is {person}\")"
   ]
  },
  {
   "cell_type": "code",
   "execution_count": 18,
   "id": "5f33678d-4292-497c-ac92-9d55e4575763",
   "metadata": {},
   "outputs": [],
   "source": [
    "d = {'a':123, 'b':234}"
   ]
  },
  {
   "cell_type": "code",
   "execution_count": 34,
   "id": "f03238d1-d2aa-4502-b031-135251668529",
   "metadata": {},
   "outputs": [
    {
     "name": "stdout",
     "output_type": "stream",
     "text": [
      "my values is 234 \n"
     ]
    }
   ],
   "source": [
    "print(f\"my values is {d['b']} \")"
   ]
  },
  {
   "cell_type": "code",
   "execution_count": 42,
   "id": "36752e12-dffa-44c0-a90c-6452b749a306",
   "metadata": {},
   "outputs": [],
   "source": [
    "from datetime import datetime\n",
    "today = datetime(year=2025, month=6,day=6)"
   ]
  },
  {
   "cell_type": "code",
   "execution_count": 52,
   "id": "4a71cf24-4e34-4c34-b79c-1c735993509c",
   "metadata": {},
   "outputs": [
    {
     "name": "stdout",
     "output_type": "stream",
     "text": [
      "June,06,2025\n"
     ]
    }
   ],
   "source": [
    "print(f\"{today:%B,%d,%Y}\")"
   ]
  },
  {
   "cell_type": "code",
   "execution_count": 54,
   "id": "e37d500e-93bb-407d-9996-7eda1a34aa20",
   "metadata": {},
   "outputs": [
    {
     "name": "stdout",
     "output_type": "stream",
     "text": [
      "Writing test.txt\n"
     ]
    }
   ],
   "source": [
    "%%writefile test.txt\n",
    "this is the first line of sentence.\n",
    "also it is the second line of sentence."
   ]
  },
  {
   "cell_type": "code",
   "execution_count": 56,
   "id": "05da9f2f-44d3-4653-a684-f877ffd9ab48",
   "metadata": {},
   "outputs": [],
   "source": [
    "myfile = open('test.txt')"
   ]
  },
  {
   "cell_type": "code",
   "execution_count": 60,
   "id": "1f09f6f2-2945-4bb3-90fb-88ade9e09e1f",
   "metadata": {},
   "outputs": [
    {
     "name": "stdout",
     "output_type": "stream",
     "text": [
      "<_io.TextIOWrapper name='test.txt' mode='r' encoding='UTF-8'>\n"
     ]
    }
   ],
   "source": [
    "print(myfile)"
   ]
  },
  {
   "cell_type": "code",
   "execution_count": 74,
   "id": "47c90598-a11b-4a55-9017-c4af46e8c144",
   "metadata": {},
   "outputs": [
    {
     "data": {
      "text/plain": [
       "0"
      ]
     },
     "execution_count": 74,
     "metadata": {},
     "output_type": "execute_result"
    }
   ],
   "source": [
    "myfile.seek(0)"
   ]
  },
  {
   "cell_type": "code",
   "execution_count": 68,
   "id": "024f2b33-0ed1-4c3e-87fe-2bf7d97ba7cc",
   "metadata": {},
   "outputs": [
    {
     "name": "stdout",
     "output_type": "stream",
     "text": [
      "this is the first line of sentence.\n",
      "also it is the second line of sentence.\n",
      "\n"
     ]
    }
   ],
   "source": [
    "print(myfile.read())"
   ]
  },
  {
   "cell_type": "code",
   "execution_count": 76,
   "id": "132816f8-3cd2-4c3e-a6ef-22cedb0d4381",
   "metadata": {},
   "outputs": [],
   "source": [
    "content = myfile.read()"
   ]
  },
  {
   "cell_type": "code",
   "execution_count": 78,
   "id": "03b9d03e-2282-495d-992c-5e1053085396",
   "metadata": {},
   "outputs": [
    {
     "data": {
      "text/plain": [
       "'this is the first line of sentence.\\nalso it is the second line of sentence.\\n'"
      ]
     },
     "execution_count": 78,
     "metadata": {},
     "output_type": "execute_result"
    }
   ],
   "source": [
    "content"
   ]
  },
  {
   "cell_type": "code",
   "execution_count": 80,
   "id": "591a6519-ac87-4217-8ab6-53f22ad32a68",
   "metadata": {},
   "outputs": [],
   "source": [
    "myfile.close()"
   ]
  },
  {
   "cell_type": "code",
   "execution_count": 84,
   "id": "fad77e6a-5560-432c-8012-c8727be27eb8",
   "metadata": {},
   "outputs": [],
   "source": [
    "myfile.close()"
   ]
  },
  {
   "cell_type": "code",
   "execution_count": 133,
   "id": "db58247c-934a-4839-8d0d-55a4e8e3a259",
   "metadata": {},
   "outputs": [],
   "source": [
    "myfile = open('test.txt')"
   ]
  },
  {
   "cell_type": "code",
   "execution_count": null,
   "id": "d99adb3a-df11-4419-b50f-228c9ab4d727",
   "metadata": {},
   "outputs": [],
   "source": []
  },
  {
   "cell_type": "code",
   "execution_count": 136,
   "id": "ad42ae54-217c-4d11-ab51-9159f17df291",
   "metadata": {},
   "outputs": [
    {
     "data": {
      "text/plain": [
       "['this is the first line of sentence.\\n',\n",
       " 'also it is the second line of sentence.\\n']"
      ]
     },
     "execution_count": 136,
     "metadata": {},
     "output_type": "execute_result"
    }
   ],
   "source": [
    "myfile.readlines()"
   ]
  },
  {
   "cell_type": "code",
   "execution_count": 142,
   "id": "1c2a717e-7bdc-4ebf-a377-50f82ff79818",
   "metadata": {},
   "outputs": [
    {
     "data": {
      "text/plain": [
       "0"
      ]
     },
     "execution_count": 142,
     "metadata": {},
     "output_type": "execute_result"
    }
   ],
   "source": [
    "myfile.seek(0)"
   ]
  },
  {
   "cell_type": "code",
   "execution_count": 144,
   "id": "848963bc-5636-4c6f-9a9e-90428dfaead2",
   "metadata": {},
   "outputs": [
    {
     "name": "stdout",
     "output_type": "stream",
     "text": [
      "t\n",
      "a\n"
     ]
    }
   ],
   "source": [
    "for line in myfile:\n",
    "    print(line[0])"
   ]
  },
  {
   "cell_type": "code",
   "execution_count": 146,
   "id": "1f9c2830-7381-4f43-b9d0-48c0efe4de93",
   "metadata": {},
   "outputs": [],
   "source": [
    "myfile.close()"
   ]
  },
  {
   "cell_type": "code",
   "execution_count": 152,
   "id": "83c67cbd-54bf-4fc7-a4b7-8835143a6860",
   "metadata": {},
   "outputs": [],
   "source": [
    "myfile = open('test.txt',mode='w+')\n"
   ]
  },
  {
   "cell_type": "code",
   "execution_count": 154,
   "id": "8c68202d-e163-4d18-9b3c-b03e28b26a2a",
   "metadata": {},
   "outputs": [
    {
     "data": {
      "text/plain": [
       "''"
      ]
     },
     "execution_count": 154,
     "metadata": {},
     "output_type": "execute_result"
    }
   ],
   "source": [
    "myfile.read()"
   ]
  },
  {
   "cell_type": "code",
   "execution_count": 156,
   "id": "59efd1da-2fa0-4012-9eda-0d35a08ef746",
   "metadata": {},
   "outputs": [],
   "source": [
    "myfile.close()"
   ]
  },
  {
   "cell_type": "code",
   "execution_count": 158,
   "id": "e012b61e-f433-4045-aa58-34279cde8da3",
   "metadata": {},
   "outputs": [],
   "source": [
    "myfile  = open('whoops.txt','a+')"
   ]
  },
  {
   "cell_type": "code",
   "execution_count": 160,
   "id": "8ac5f55e-9fda-4e8f-926c-182c29558f0c",
   "metadata": {},
   "outputs": [
    {
     "data": {
      "text/plain": [
       "25"
      ]
     },
     "execution_count": 160,
     "metadata": {},
     "output_type": "execute_result"
    }
   ],
   "source": [
    "myfile.write('THIS IS THE FIRST A+ LINE')"
   ]
  },
  {
   "cell_type": "code",
   "execution_count": 172,
   "id": "53d1ab9c-7bea-4cb0-9f69-ae0f8e0794cf",
   "metadata": {},
   "outputs": [
    {
     "data": {
      "text/plain": [
       "0"
      ]
     },
     "execution_count": 172,
     "metadata": {},
     "output_type": "execute_result"
    }
   ],
   "source": [
    "myfile.seek(0)"
   ]
  },
  {
   "cell_type": "code",
   "execution_count": 174,
   "id": "0ac6c3f1-d62d-43c0-bc00-375c90480562",
   "metadata": {},
   "outputs": [
    {
     "data": {
      "text/plain": [
       "'THIS IS THE FIRST A+ LINE'"
      ]
     },
     "execution_count": 174,
     "metadata": {},
     "output_type": "execute_result"
    }
   ],
   "source": [
    "myfile.read()"
   ]
  },
  {
   "cell_type": "code",
   "execution_count": 176,
   "id": "2f188b8c-fb6b-476b-90ed-b1c1b8e8afc6",
   "metadata": {},
   "outputs": [
    {
     "data": {
      "text/plain": [
       "0"
      ]
     },
     "execution_count": 176,
     "metadata": {},
     "output_type": "execute_result"
    }
   ],
   "source": [
    "myfile.seek(0)"
   ]
  },
  {
   "cell_type": "code",
   "execution_count": 178,
   "id": "d8da6fde-a7a8-46ce-a7c2-ea83a7cdd55f",
   "metadata": {},
   "outputs": [],
   "source": [
    "myfile.close()"
   ]
  },
  {
   "cell_type": "code",
   "execution_count": 182,
   "id": "6f7c2b27-b6a6-49fd-a8ad-73b1a70463ae",
   "metadata": {},
   "outputs": [],
   "source": [
    "myfile = open('test.txt','a+')\n"
   ]
  },
  {
   "cell_type": "code",
   "execution_count": 190,
   "id": "a031b67c-2891-4aba-beb2-c5cc19b6d10d",
   "metadata": {},
   "outputs": [
    {
     "data": {
      "text/plain": [
       "0"
      ]
     },
     "execution_count": 190,
     "metadata": {},
     "output_type": "execute_result"
    }
   ],
   "source": [
    "myfile.seek(0)"
   ]
  },
  {
   "cell_type": "code",
   "execution_count": 194,
   "id": "b801459a-e5d2-414c-97c1-32285b025bf1",
   "metadata": {},
   "outputs": [
    {
     "data": {
      "text/plain": [
       "''"
      ]
     },
     "execution_count": 194,
     "metadata": {},
     "output_type": "execute_result"
    }
   ],
   "source": [
    "myfile.read()"
   ]
  },
  {
   "cell_type": "code",
   "execution_count": 200,
   "id": "7e6e8c4f-dddf-4a67-9c01-19897d781cfe",
   "metadata": {},
   "outputs": [
    {
     "data": {
      "text/plain": [
       "0"
      ]
     },
     "execution_count": 200,
     "metadata": {},
     "output_type": "execute_result"
    }
   ],
   "source": [
    "myfile.seek(0)"
   ]
  },
  {
   "cell_type": "code",
   "execution_count": 198,
   "id": "8692e217-2ad6-46f0-823f-48032e02aa9c",
   "metadata": {},
   "outputs": [
    {
     "data": {
      "text/plain": [
       "''"
      ]
     },
     "execution_count": 198,
     "metadata": {},
     "output_type": "execute_result"
    }
   ],
   "source": [
    "myfile.read()"
   ]
  },
  {
   "cell_type": "code",
   "execution_count": 202,
   "id": "a6b35d6e-d215-40a1-88d2-6dddedec7572",
   "metadata": {},
   "outputs": [
    {
     "data": {
      "text/plain": [
       "[]"
      ]
     },
     "execution_count": 202,
     "metadata": {},
     "output_type": "execute_result"
    }
   ],
   "source": [
    "myfile.readlines()"
   ]
  },
  {
   "cell_type": "code",
   "execution_count": 206,
   "id": "297ad638-a4ac-457e-8c36-650b12654168",
   "metadata": {},
   "outputs": [
    {
     "data": {
      "text/plain": [
       "38"
      ]
     },
     "execution_count": 206,
     "metadata": {},
     "output_type": "execute_result"
    }
   ],
   "source": [
    "myfile = open('testing.txt', 'a+')\n",
    "myfile.write('THIS IS THE TESTING FILE FOR APPENDING')\n"
   ]
  },
  {
   "cell_type": "code",
   "execution_count": 210,
   "id": "7554c918-d4aa-48b6-9294-c264f4f4be87",
   "metadata": {},
   "outputs": [
    {
     "data": {
      "text/plain": [
       "0"
      ]
     },
     "execution_count": 210,
     "metadata": {},
     "output_type": "execute_result"
    }
   ],
   "source": [
    "myfile.seek(0)"
   ]
  },
  {
   "cell_type": "code",
   "execution_count": 212,
   "id": "572e4ded-b96a-472c-8e33-016acec8f287",
   "metadata": {},
   "outputs": [
    {
     "data": {
      "text/plain": [
       "'THIS IS THE TESTING FILE FOR APPENDINGTHIS IS THE TESTING FILE FOR APPENDING'"
      ]
     },
     "execution_count": 212,
     "metadata": {},
     "output_type": "execute_result"
    }
   ],
   "source": [
    "myfile.read()"
   ]
  },
  {
   "cell_type": "code",
   "execution_count": 214,
   "id": "6d599e46-9494-4dd0-8ddc-386cb584d8d8",
   "metadata": {},
   "outputs": [],
   "source": [
    "myfile.close()"
   ]
  },
  {
   "cell_type": "code",
   "execution_count": 216,
   "id": "a7de22d4-d73f-468d-bc92-572fbc0cf670",
   "metadata": {},
   "outputs": [
    {
     "data": {
      "text/plain": [
       "32"
      ]
     },
     "execution_count": 216,
     "metadata": {},
     "output_type": "execute_result"
    }
   ],
   "source": [
    "myfile = open('testing.txt', mode='a+')\n",
    "myfile.write('APPNEDING SECOND LINE AT THE END')"
   ]
  },
  {
   "cell_type": "code",
   "execution_count": 220,
   "id": "e5891072-d3a5-4be8-a939-0d4ce8d61851",
   "metadata": {},
   "outputs": [
    {
     "data": {
      "text/plain": [
       "0"
      ]
     },
     "execution_count": 220,
     "metadata": {},
     "output_type": "execute_result"
    }
   ],
   "source": [
    "myfile.seek(0)"
   ]
  },
  {
   "cell_type": "code",
   "execution_count": 222,
   "id": "9d10c8e2-a317-4431-b53d-5dcdca298c10",
   "metadata": {},
   "outputs": [
    {
     "data": {
      "text/plain": [
       "'THIS IS THE TESTING FILE FOR APPENDINGTHIS IS THE TESTING FILE FOR APPENDINGAPPNEDING SECOND LINE AT THE END'"
      ]
     },
     "execution_count": 222,
     "metadata": {},
     "output_type": "execute_result"
    }
   ],
   "source": [
    "myfile.read()"
   ]
  },
  {
   "cell_type": "code",
   "execution_count": 224,
   "id": "7df41c25-088a-4b20-8ffe-9796ecacbe76",
   "metadata": {},
   "outputs": [],
   "source": [
    "myfile.close()\n"
   ]
  },
  {
   "cell_type": "code",
   "execution_count": 230,
   "id": "8ce962b8-421c-4af7-a1ba-424760e003ed",
   "metadata": {},
   "outputs": [],
   "source": [
    "######this is the best way to open and work with file after you get out of the cell it automatically closes\n",
    "with open('testing.txt', mode='r') as myNewFile:\n",
    "    myVariable = myNewFile.read()"
   ]
  },
  {
   "cell_type": "code",
   "execution_count": 232,
   "id": "6c838a9d-f50b-49e8-b1a5-3fa8b3d38652",
   "metadata": {},
   "outputs": [
    {
     "data": {
      "text/plain": [
       "'THIS IS THE TESTING FILE FOR APPENDINGTHIS IS THE TESTING FILE FOR APPENDINGAPPNEDING SECOND LINE AT THE END'"
      ]
     },
     "execution_count": 232,
     "metadata": {},
     "output_type": "execute_result"
    }
   ],
   "source": [
    "myVariable"
   ]
  },
  {
   "cell_type": "code",
   "execution_count": null,
   "id": "6fcc53b1-215f-46a8-83e4-e0af589376c7",
   "metadata": {},
   "outputs": [],
   "source": []
  }
 ],
 "metadata": {
  "kernelspec": {
   "display_name": "Python 3 (ipykernel)",
   "language": "python",
   "name": "python3"
  },
  "language_info": {
   "codemirror_mode": {
    "name": "ipython",
    "version": 3
   },
   "file_extension": ".py",
   "mimetype": "text/x-python",
   "name": "python",
   "nbconvert_exporter": "python",
   "pygments_lexer": "ipython3",
   "version": "3.12.7"
  }
 },
 "nbformat": 4,
 "nbformat_minor": 5
}
