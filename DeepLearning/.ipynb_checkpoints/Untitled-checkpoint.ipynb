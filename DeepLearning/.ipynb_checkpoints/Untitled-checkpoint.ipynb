{
 "cells": [
  {
   "cell_type": "code",
   "execution_count": 4,
   "id": "7a9374ad-59fd-47d6-af92-cad42d2bc10f",
   "metadata": {},
   "outputs": [],
   "source": [
    "import numpy as np\n",
    "import tensorflow as tf\n",
    "from keras import layers\n"
   ]
  },
  {
   "cell_type": "code",
   "execution_count": 8,
   "id": "20f04ddc-4b52-4824-b262-b57d23599373",
   "metadata": {},
   "outputs": [],
   "source": [
    "model = keras.Sequential(\n",
    "    [\n",
    "        layers.Dense(2, activation='relu', name='Layer1'),\n",
    "        layers.Dense(4, activation='relu', name='Layer2'),\n",
    "        layers.Dense(1, name='Layer3')\n",
    "    ]\n",
    ")\n",
    "X = tf.ones((3,3))\n",
    "y = model(X)"
   ]
  },
  {
   "cell_type": "code",
   "execution_count": 20,
   "id": "df901e19-53a9-4502-91d4-466375cf4aa3",
   "metadata": {},
   "outputs": [
    {
     "name": "stdout",
     "output_type": "stream",
     "text": [
      "tf.Tensor(\n",
      "[[0.]\n",
      " [0.]\n",
      " [0.]], shape=(3, 1), dtype=float32)\n"
     ]
    }
   ],
   "source": [
    "print(y)"
   ]
  },
  {
   "cell_type": "code",
   "execution_count": 22,
   "id": "662dd17c-a9b8-4423-a1c9-e65704330348",
   "metadata": {},
   "outputs": [
    {
     "data": {
      "text/plain": [
       "TensorShape([3, 3])"
      ]
     },
     "execution_count": 22,
     "metadata": {},
     "output_type": "execute_result"
    }
   ],
   "source": [
    "X.shape"
   ]
  },
  {
   "cell_type": "code",
   "execution_count": 24,
   "id": "e4ff25ce-673e-459c-b33f-86628bcd14b6",
   "metadata": {},
   "outputs": [
    {
     "data": {
      "text/plain": [
       "[<Dense name=Layer1, built=True>,\n",
       " <Dense name=Layer2, built=True>,\n",
       " <Dense name=Layer3, built=True>]"
      ]
     },
     "execution_count": 24,
     "metadata": {},
     "output_type": "execute_result"
    }
   ],
   "source": [
    "model.layers"
   ]
  },
  {
   "cell_type": "code",
   "execution_count": 26,
   "id": "2b39c424-d448-4078-820f-e25a1e42d5e1",
   "metadata": {},
   "outputs": [
    {
     "name": "stdout",
     "output_type": "stream",
     "text": [
      "[<Dense name=layer4, built=False>, <Dense name=layer5, built=False>, <Dense name=layer6, built=False>]\n"
     ]
    }
   ],
   "source": [
    "#you can also use below one also\n",
    "model1 = keras.Sequential()\n",
    "model1.add(layers.Dense(2, activation='relu',name='layer4'))\n",
    "model1.add(layers.Dense(4, activation='relu',name='layer5'))\n",
    "model1.add(layers.Dense(1, name='layer6'))\n",
    "\n",
    "print(model1.layers)"
   ]
  },
  {
   "cell_type": "code",
   "execution_count": 28,
   "id": "cf17e6cf-a958-477b-91fe-4aa5929f47e9",
   "metadata": {},
   "outputs": [
    {
     "data": {
      "text/plain": [
       "[<Dense name=layer4, built=False>,\n",
       " <Dense name=layer5, built=False>,\n",
       " <Dense name=layer6, built=False>]"
      ]
     },
     "execution_count": 28,
     "metadata": {},
     "output_type": "execute_result"
    }
   ],
   "source": [
    "model1.layers"
   ]
  },
  {
   "cell_type": "code",
   "execution_count": 32,
   "id": "dc2ed2c5-d1c5-40d2-a09a-50d10b20f58b",
   "metadata": {},
   "outputs": [],
   "source": [
    "#or you can also you this one als0\n",
    "model = keras.Sequential()\n",
    "layer12 = layers.Dense(2, activation='relu')\n",
    "layer23 = layers.Dense(3, activation = 'relu')\n",
    "layers34 = layers.Dense(1)\n",
    "\n",
    "x = tf.ones((4,4))\n",
    "y = layers34(layer23(layer12(x)))\n"
   ]
  },
  {
   "cell_type": "code",
   "execution_count": 34,
   "id": "3533cc69-bc27-46c4-a237-3da6f15f3ae1",
   "metadata": {},
   "outputs": [
    {
     "data": {
      "text/plain": [
       "TensorShape([4, 4])"
      ]
     },
     "execution_count": 34,
     "metadata": {},
     "output_type": "execute_result"
    }
   ],
   "source": [
    "x.shape"
   ]
  },
  {
   "cell_type": "code",
   "execution_count": 36,
   "id": "14985660-2a2b-4eae-8fd2-1d9d6f8513d3",
   "metadata": {},
   "outputs": [
    {
     "data": {
      "text/plain": [
       "TensorShape([4, 1])"
      ]
     },
     "execution_count": 36,
     "metadata": {},
     "output_type": "execute_result"
    }
   ],
   "source": [
    "y.shape"
   ]
  },
  {
   "cell_type": "code",
   "execution_count": 38,
   "id": "804cdab8-add8-424f-9116-9a0b89c1aa4b",
   "metadata": {},
   "outputs": [
    {
     "name": "stdout",
     "output_type": "stream",
     "text": [
      "tf.Tensor(\n",
      "[[0.36824575]\n",
      " [0.36824575]\n",
      " [0.36824575]\n",
      " [0.36824575]], shape=(4, 1), dtype=float32)\n"
     ]
    }
   ],
   "source": [
    "print(y)"
   ]
  },
  {
   "cell_type": "code",
   "execution_count": 40,
   "id": "4b660df6-b3cf-4354-bd38-d76740c82eaa",
   "metadata": {},
   "outputs": [
    {
     "name": "stdout",
     "output_type": "stream",
     "text": [
      "tf.Tensor(\n",
      "[[1. 1. 1. 1.]\n",
      " [1. 1. 1. 1.]\n",
      " [1. 1. 1. 1.]\n",
      " [1. 1. 1. 1.]], shape=(4, 4), dtype=float32)\n"
     ]
    }
   ],
   "source": [
    "print(x)"
   ]
  },
  {
   "cell_type": "code",
   "execution_count": 87,
   "id": "d0c3673e-5003-43c2-9832-e99cdd56882e",
   "metadata": {},
   "outputs": [
    {
     "name": "stdout",
     "output_type": "stream",
     "text": [
      "[]\n"
     ]
    }
   ],
   "source": [
    "layer = layers.Dense(2)\n",
    "print(layer.weights)"
   ]
  },
  {
   "cell_type": "code",
   "execution_count": 89,
   "id": "79b2a1c6-c6a8-426a-93be-db4032107573",
   "metadata": {},
   "outputs": [],
   "source": [
    "x = tf.ones((3,3))\n",
    "y = layer(x)"
   ]
  },
  {
   "cell_type": "code",
   "execution_count": 91,
   "id": "20cc768c-9fa2-4bce-abb2-8f48f1160508",
   "metadata": {
    "collapsed": true,
    "jupyter": {
     "outputs_hidden": true
    }
   },
   "outputs": [
    {
     "name": "stdout",
     "output_type": "stream",
     "text": [
      "[<Variable path=dense_16/kernel, shape=(3, 2), dtype=float32, value=[[ 0.84150934  0.09230065]\n",
      " [-0.4720598   0.5619582 ]\n",
      " [-0.8487742  -0.86857074]]>, <Variable path=dense_16/bias, shape=(2,), dtype=float32, value=[0. 0.]>]\n"
     ]
    }
   ],
   "source": [
    "print(layer.weights)"
   ]
  },
  {
   "cell_type": "code",
   "execution_count": 95,
   "id": "1fbc8ef5-db65-464b-8cc1-2e8489caa46f",
   "metadata": {},
   "outputs": [
    {
     "name": "stdout",
     "output_type": "stream",
     "text": [
      "<bound method Model.summary of <Sequential name=sequential_3, built=False>>\n"
     ]
    }
   ],
   "source": [
    "print(model.summary)"
   ]
  },
  {
   "cell_type": "code",
   "execution_count": 99,
   "id": "135fc8d5-baf4-4476-84f5-c702c3f6907c",
   "metadata": {},
   "outputs": [
    {
     "name": "stdout",
     "output_type": "stream",
     "text": [
      "0\n"
     ]
    }
   ],
   "source": [
    "print(len(model.weights))"
   ]
  },
  {
   "cell_type": "code",
   "execution_count": 101,
   "id": "0537c5d7-488d-488a-8a48-4ab06a7e57b5",
   "metadata": {
    "scrolled": true
   },
   "outputs": [
    {
     "name": "stdout",
     "output_type": "stream",
     "text": [
      "tf.Tensor(\n",
      "[[[[1. 1. 1.]\n",
      "   [1. 1. 1.]\n",
      "   [1. 1. 1.]\n",
      "   ...\n",
      "   [1. 1. 1.]\n",
      "   [1. 1. 1.]\n",
      "   [1. 1. 1.]]\n",
      "\n",
      "  [[1. 1. 1.]\n",
      "   [1. 1. 1.]\n",
      "   [1. 1. 1.]\n",
      "   ...\n",
      "   [1. 1. 1.]\n",
      "   [1. 1. 1.]\n",
      "   [1. 1. 1.]]\n",
      "\n",
      "  [[1. 1. 1.]\n",
      "   [1. 1. 1.]\n",
      "   [1. 1. 1.]\n",
      "   ...\n",
      "   [1. 1. 1.]\n",
      "   [1. 1. 1.]\n",
      "   [1. 1. 1.]]\n",
      "\n",
      "  ...\n",
      "\n",
      "  [[1. 1. 1.]\n",
      "   [1. 1. 1.]\n",
      "   [1. 1. 1.]\n",
      "   ...\n",
      "   [1. 1. 1.]\n",
      "   [1. 1. 1.]\n",
      "   [1. 1. 1.]]\n",
      "\n",
      "  [[1. 1. 1.]\n",
      "   [1. 1. 1.]\n",
      "   [1. 1. 1.]\n",
      "   ...\n",
      "   [1. 1. 1.]\n",
      "   [1. 1. 1.]\n",
      "   [1. 1. 1.]]\n",
      "\n",
      "  [[1. 1. 1.]\n",
      "   [1. 1. 1.]\n",
      "   [1. 1. 1.]\n",
      "   ...\n",
      "   [1. 1. 1.]\n",
      "   [1. 1. 1.]\n",
      "   [1. 1. 1.]]]], shape=(1, 250, 250, 3), dtype=float32)\n"
     ]
    }
   ],
   "source": [
    "x = tf.ones((1, 250, 250, 3))\n",
    "print(x)"
   ]
  },
  {
   "cell_type": "code",
   "execution_count": null,
   "id": "e29b354b-c2e4-4fd0-ad41-d81a08fb506f",
   "metadata": {},
   "outputs": [],
   "source": []
  }
 ],
 "metadata": {
  "kernelspec": {
   "display_name": "Python 3 (ipykernel)",
   "language": "python",
   "name": "python3"
  },
  "language_info": {
   "codemirror_mode": {
    "name": "ipython",
    "version": 3
   },
   "file_extension": ".py",
   "mimetype": "text/x-python",
   "name": "python",
   "nbconvert_exporter": "python",
   "pygments_lexer": "ipython3",
   "version": "3.12.7"
  }
 },
 "nbformat": 4,
 "nbformat_minor": 5
}
